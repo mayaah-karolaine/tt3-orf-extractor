{
  "cells": [
    {
      "cell_type": "markdown",
      "metadata": {
        "id": "view-in-github",
        "colab_type": "text"
      },
      "source": [
        "<a href=\"https://colab.research.google.com/github/mayaah-karolaine/tt3-orf-extractor/blob/main/orf_extractor.ipynb\" target=\"_parent\"><img src=\"https://colab.research.google.com/assets/colab-badge.svg\" alt=\"Open In Colab\"/></a>"
      ]
    },
    {
      "cell_type": "markdown",
      "id": "a9b219f2-b29f-43c2-9802-0ec35b2c39dd",
      "metadata": {
        "id": "a9b219f2-b29f-43c2-9802-0ec35b2c39dd"
      },
      "source": [
        "# IMPORTS"
      ]
    },
    {
      "cell_type": "code",
      "source": [
        "!pip install biopython"
      ],
      "metadata": {
        "colab": {
          "base_uri": "https://localhost:8080/"
        },
        "id": "zfDB_KCnyXcO",
        "outputId": "04f85b61-0aa1-4611-8896-1d346b147475"
      },
      "id": "zfDB_KCnyXcO",
      "execution_count": null,
      "outputs": [
        {
          "output_type": "stream",
          "name": "stdout",
          "text": [
            "Collecting biopython\n",
            "  Downloading biopython-1.79-cp37-cp37m-manylinux_2_5_x86_64.manylinux1_x86_64.whl (2.3 MB)\n",
            "\u001b[K     |████████████████████████████████| 2.3 MB 5.2 MB/s \n",
            "\u001b[?25hRequirement already satisfied: numpy in /usr/local/lib/python3.7/dist-packages (from biopython) (1.19.5)\n",
            "Installing collected packages: biopython\n",
            "Successfully installed biopython-1.79\n"
          ]
        }
      ]
    },
    {
      "cell_type": "code",
      "execution_count": null,
      "id": "33d5833d-56b6-4eab-8a5d-99f5c6bf7dfe",
      "metadata": {
        "tags": [],
        "id": "33d5833d-56b6-4eab-8a5d-99f5c6bf7dfe"
      },
      "outputs": [],
      "source": [
        "from Bio import SeqIO\n",
        "import pandas as pd\n",
        "import json\n",
        "from os.path import exists"
      ]
    },
    {
      "cell_type": "markdown",
      "id": "0bc59900-82d5-4f5a-98ac-76668b8c2b1d",
      "metadata": {
        "id": "0bc59900-82d5-4f5a-98ac-76668b8c2b1d"
      },
      "source": [
        "## INPUT FILE"
      ]
    },
    {
      "cell_type": "code",
      "execution_count": null,
      "id": "c7de79d6-bf2a-453d-9a1f-7ffee80f6b1b",
      "metadata": {
        "tags": [],
        "id": "c7de79d6-bf2a-453d-9a1f-7ffee80f6b1b"
      },
      "outputs": [],
      "source": [
        "input_fasta = 'covid_sequence.fa'"
      ]
    },
    {
      "cell_type": "markdown",
      "id": "8070e196-c297-438e-9b40-a3c2068d8481",
      "metadata": {
        "id": "8070e196-c297-438e-9b40-a3c2068d8481"
      },
      "source": [
        "# INPUT ORFS INFO"
      ]
    },
    {
      "cell_type": "code",
      "execution_count": null,
      "id": "61b2d700-49a6-4543-bb3c-448bdf364a6f",
      "metadata": {
        "tags": [],
        "id": "61b2d700-49a6-4543-bb3c-448bdf364a6f"
      },
      "outputs": [],
      "source": [
        "orfs={\n",
        "    '1A':{'START_NUMBER':266,'END_NUMBER':13483,'START_CODON':'ATG','END_CODON':'TAA'},\n",
        "    '1AB':{'START_NUMBER':266,'END_NUMBER':21555,'START_CODON':'ATG','END_CODON':'TAA'},\n",
        "    'SPIKE':{'START_NUMBER':21563,'END_NUMBER':25384,'START_CODON':'ATG','END_CODON':'TAA'},\n",
        "    '3A':{'START_NUMBER':25393,'END_NUMBER':26220,'START_CODON':'ATG','END_CODON':'TAA'},\n",
        "    '4':{'START_NUMBER':26245,'END_NUMBER':26472,'START_CODON':'ATG','END_CODON':'TAA'},\n",
        "    '5':{'START_NUMBER':26523,'END_NUMBER':27191,'START_CODON':'ATG','END_CODON':'TAA'},\n",
        "    '6':{'START_NUMBER':27202,'END_NUMBER':27387,'START_CODON':'ATG','END_CODON':'TAA'},\n",
        "    '7A':{'START_NUMBER':27394,'END_NUMBER':27759,'START_CODON':'ATG','END_CODON':'TGA'},\n",
        "    '7B':{'START_NUMBER':27756,'END_NUMBER':27887,'START_CODON':'ATG','END_CODON':'TAA'},\n",
        "    '8':{'START_NUMBER':27894,'END_NUMBER':28262,'START_CODON':'ATG','END_CODON':'TAA'},\n",
        "    '9':{'START_NUMBER':28281,'END_NUMBER':29540,'START_CODON':'ATG','END_CODON':'TAA'},\n",
        "    '10':{'START_NUMBER':29565,'END_NUMBER':29681,'START_CODON':'ATG','END_CODON':'TAG'}\n",
        "}"
      ]
    },
    {
      "cell_type": "markdown",
      "id": "d77ec851-d878-4fe9-ae6c-37a39c68e1e4",
      "metadata": {
        "id": "d77ec851-d878-4fe9-ae6c-37a39c68e1e4"
      },
      "source": [
        "# WRITE METHODS"
      ]
    },
    {
      "cell_type": "code",
      "execution_count": 28,
      "id": "2c174146-ad0f-4e7f-927e-fb774204a56e",
      "metadata": {
        "tags": [],
        "id": "2c174146-ad0f-4e7f-927e-fb774204a56e"
      },
      "outputs": [],
      "source": [
        "def write_header(output_file):\n",
        "    text = 'SAMPLE,GAPS,N_BASES,LENGHT,START_CODON,END_CODON,START_POSIX,END_POSIX\\n'\n",
        "    file =  open(output_file,'a')\n",
        "    file.write(text)\n",
        "    file.close()\n",
        "    \n",
        "def write_quality(output_file,name,gaps,nbase,lenght,start_codon,end_codon,start_posix,end_posix):\n",
        "    #ESCREVENDO PARAMETROS DE QUALIDADE\n",
        "    text = f\"{name},{gaps},{nbase},{lenght},{start_codon},{end_codon},{start_posix},{end_posix}\\n\"\n",
        "    file =  open(output_file,'a')\n",
        "    file.write(text)\n",
        "    file.close()\n",
        "\n",
        "def write_fasta(output_file,name,sequence):\n",
        "    text = f'>{name}\\n{sequence}\\n'\n",
        "    file =  open(output_file,'a')\n",
        "    file.write(text)\n",
        "    file.close()\n",
        "\n",
        "def empty_file(filename):\n",
        "    with open(filename, 'w'):\n",
        "        pass"
      ]
    },
    {
      "cell_type": "markdown",
      "id": "ff1b0823-e6d5-41a2-9eb8-62644c4b4f16",
      "metadata": {
        "id": "ff1b0823-e6d5-41a2-9eb8-62644c4b4f16"
      },
      "source": [
        "# ORF1A"
      ]
    },
    {
      "cell_type": "code",
      "execution_count": 35,
      "id": "1212aab7-4217-4233-902e-cd0936bbc8e3",
      "metadata": {
        "tags": [],
        "id": "1212aab7-4217-4233-902e-cd0936bbc8e3",
        "outputId": "d90293b5-5ddc-4e2b-fb69-892efa9a0e08",
        "colab": {
          "base_uri": "https://localhost:8080/"
        }
      },
      "outputs": [
        {
          "output_type": "stream",
          "name": "stdout",
          "text": [
            "Sample:hCoV-19/Brazil/MG-LBI194/2021 com inicio ou final divergente: inicio:-----\tfinal:TAA\n",
            "3528\n",
            "776\n"
          ]
        }
      ],
      "source": [
        "#DECLARAÇÃO DE VARIAVEIS UNICAS PRA CADA ORF\n",
        "\n",
        "#Arquivos\n",
        "output_file_quality = './output/quality_ORF_1A.csv'\n",
        "output_file_fasta = './output/ORF_1A.fasta'\n",
        "output_file_final = './output/final_ORF_1A.fasta'\n",
        "\n",
        "#posições genomicas\n",
        "start_codon = orfs['1A']['START_CODON']\n",
        "start_posix = orfs['1A']['START_NUMBER'] - 1\n",
        "end_codon = orfs['1A']['END_CODON']\n",
        "end_posix = orfs['1A']['END_NUMBER']\n",
        "\n",
        "if exists(output_file_quality):\n",
        "    empty_file(output_file_quality)\n",
        "if exists(output_file_fasta):\n",
        "    empty_file(output_file_fasta)\n",
        "if exists(output_file_final):\n",
        "    empty_file(output_file_final)\n",
        "\n",
        "#CRIANDO HEADER DO ARQUIVO CSV DE QUALIDADE\n",
        "write_header(output_file_quality)\n",
        "\n",
        "#LENDO O ARQUIVO DE ENTRADA FASTA, NECESSÁRIO CHAMAR CADA VEZ QUE FOR ITERAR SOBRE AS SEQUENCIAS \n",
        "fasta_sequences = SeqIO.parse(open(input_fasta),'fasta')\n",
        "\n",
        "count_nseq = 0\n",
        "count_seq = 0\n",
        "\n",
        "#OLHANDO CADAS SEQUENCIA UNITARIAMENTE\n",
        "for fasta in fasta_sequences:\n",
        "    \n",
        "    #PEGANDO NOME E SEQUENCIA DAS AMOSTRAS \n",
        "    name, sequence = fasta.id, str(fasta.seq)\n",
        "    \n",
        "    #ORF\n",
        "    orf = sequence[start_posix : end_posix]\n",
        "    \n",
        "    #ANALISE DE PARAMETROS DE QUALIDADE\n",
        "    gaps = orf.count('-')\n",
        "    nbase = orf.count('N')\n",
        "    lenght = len(orf)\n",
        "    \n",
        "    #TESTA SE O START CODON E O END CODON SÃO OS ESPERADOS\n",
        "    if not (orf[:3] == start_codon and orf[-3:] == end_codon):\n",
        "        print(f'Sample:{name} com inicio ou final divergente: inicio:{orf[:5]}\\tfinal:{orf[-3:]}')\n",
        "        write_fasta('problems_1A.fa',name,sequence)\n",
        "      \n",
        "    if 'N' in orf:\n",
        "        orf_sem_n = orf.replace('N', '')\n",
        "\n",
        "        #SALVANDO AS SEQUENCIAS \n",
        "        write_fasta(output_file_final,name,orf_sem_n)\n",
        "        count_nseq += 1\n",
        "    else:\n",
        "         write_fasta(output_file_fasta,name,orf)\n",
        "         #print (f'SAMPLE:(name)\\tORF:1A')\n",
        "         count_seq += 1\n",
        "\n",
        "    #ESCREVENDO PARAMETROS DE QUALIDADE\n",
        "    write_quality(output_file_quality,name,gaps,nbase,lenght,orf[:3],orf[-3:],start_posix,end_posix)\n",
        "print(count_seq)\n",
        "print(count_nseq)"
      ]
    },
    {
      "cell_type": "markdown",
      "id": "6dc23288-f9a0-4558-83cb-dc4a054d0ae1",
      "metadata": {
        "id": "6dc23288-f9a0-4558-83cb-dc4a054d0ae1"
      },
      "source": [
        "# ORF1AB"
      ]
    },
    {
      "cell_type": "raw",
      "id": "b2f88f46-a3b8-475b-bcd6-7bba5a1bece7",
      "metadata": {
        "id": "b2f88f46-a3b8-475b-bcd6-7bba5a1bece7"
      },
      "source": [
        "colocar o C na posição 13468 da ORF1AB"
      ]
    },
    {
      "cell_type": "code",
      "execution_count": 51,
      "id": "a3939fcd-2f82-4baf-98ad-74ae4670a02f",
      "metadata": {
        "tags": [],
        "id": "a3939fcd-2f82-4baf-98ad-74ae4670a02f",
        "outputId": "b8623a95-b5d2-4ee3-828c-27bb138d8d46",
        "colab": {
          "base_uri": "https://localhost:8080/"
        }
      },
      "outputs": [
        {
          "output_type": "stream",
          "name": "stdout",
          "text": [
            "Sample:hCoV-19/Brazil/MG-LBI194/2021 com inicio ou final divergente: inicio:-----\tfinal:TAA\n",
            "31819\n",
            "2613\n"
          ]
        }
      ],
      "source": [
        "#DECLARAÇÃO DE VARIAVEIS UNICAS PRA CADA ORF\n",
        "#Arquivos\n",
        "output_file_quality = './output/quality_ORF_1AB.csv'\n",
        "output_file_fasta = './output/ORF_1AB.fasta'\n",
        "output_file_final = './output/final_ORF_1AB.fasta'\n",
        "\n",
        "#posições genomicas\n",
        "start_codon = orfs['1AB']['START_CODON']\n",
        "start_posix = orfs['1AB']['START_NUMBER'] - 1\n",
        "end_codon = orfs['1AB']['END_CODON']\n",
        "end_posix = orfs['1AB']['END_NUMBER']\n",
        "\n",
        "if exists(output_file_quality):\n",
        "    empty_file(output_file_quality)\n",
        "if exists(output_file_fasta):\n",
        "    empty_file(output_file_fasta)\n",
        "if exists(output_file_final):\n",
        "    empty_file(output_file_final)\n",
        "\n",
        "#CRIANDO HEADER DO ARQUIVO CSV DE QUALIDADE\n",
        "write_header(output_file_quality)\n",
        "\n",
        "#LENDO O ARQUIVO DE ENTRADA FASTA, NECESSÁRIO CHAMAR CADA VEZ QUE FOR ITERAR SOBRE AS SEQUENCIAS \n",
        "fasta_sequences = SeqIO.parse(open(input_fasta),'fasta')\n",
        "\n",
        "#OLHANDO CADAS SEQUENCIA UNITARIAMENTE\n",
        "for fasta in fasta_sequences:\n",
        "    \n",
        "    #PEGANDO NOME E SEQUENCIA DAS AMOSTRAS \n",
        "    name, sequence = fasta.id, str(fasta.seq)\n",
        "    \n",
        "    #ORF\n",
        "    orf = sequence[start_posix : end_posix]\n",
        "    \n",
        "    #ADICIONANDO A BASE C NA POSIÇÃO 13202 QUE SERIA CORRESPONDENTE A POSIÇÃO 13468 DA SEQUENCIA ORIGINAL\n",
        "    orf = orf[:13202]+\"C\"+orf[13202:]\n",
        "    \n",
        "    #ANALISE DE PARAMETROS DE QUALIDADE\n",
        "    gaps = orf.count('-')\n",
        "    nbase = orf.count('N')\n",
        "    lenght = len(orf)\n",
        "    \n",
        "    #TESTA SE O START CODON E O END CODON SÃO OS ESPERADOS\n",
        "    if not (orf[:3] == start_codon and orf[-3:] == end_codon):\n",
        "        print(f'Sample:{name} com inicio ou final divergente: inicio:{orf[:5]}\\tfinal:{orf[-3:]}')\n",
        "        write_fasta('problems_1AB.fa',name,sequence)\n",
        "    if 'N' in orf:\n",
        "        orf_sem_n = orf.replace('N', '')\n",
        "\n",
        "          #SALVANDO AS SEQUENCIAS \n",
        "        write_fasta(output_file_final,name,orf_sem_n)\n",
        "        count_nseq += 1\n",
        "    else:\n",
        "         write_fasta(output_file_fasta,name,orf)\n",
        "         #print (f'SAMPLE:(name)\\tORF:1Ab')\n",
        "         count_seq += 1\n",
        "\n",
        "       #ESCREVENDO PARAMETROS DE QUALIDADE\n",
        "         write_quality(output_file_quality,name,gaps,nbase,lenght,orf[:3],orf[-3:],start_posix,end_posix)\n",
        "print(count_seq)\n",
        "print(count_nseq)"
      ]
    },
    {
      "cell_type": "markdown",
      "id": "d1a7e54d-1500-44d6-b5f8-84e4a7cfa29e",
      "metadata": {
        "id": "d1a7e54d-1500-44d6-b5f8-84e4a7cfa29e"
      },
      "source": [
        "# SPIKE"
      ]
    },
    {
      "cell_type": "code",
      "execution_count": 52,
      "id": "feb367c6-b576-4ec0-9ee9-46a0469dbf48",
      "metadata": {
        "tags": [],
        "id": "feb367c6-b576-4ec0-9ee9-46a0469dbf48",
        "colab": {
          "base_uri": "https://localhost:8080/"
        },
        "outputId": "30ff9b5e-6f65-4e93-b301-a31b97326d6a"
      },
      "outputs": [
        {
          "output_type": "stream",
          "name": "stdout",
          "text": [
            "36008\n",
            "2728\n"
          ]
        }
      ],
      "source": [
        "#DECLARAÇÃO DE VARIAVEIS UNICAS PRA CADA ORF\n",
        "#Arquivos\n",
        "output_file_quality = './output/quality_ORF_SPIKE.csv'\n",
        "output_file_fasta = './output/ORF_SPIKE.fasta'\n",
        "output_file_final = './output/final_ORF_SPIKE.fasta'\n",
        "#posições genomicas\n",
        "start_codon = orfs['SPIKE']['START_CODON']\n",
        "start_posix = orfs['SPIKE']['START_NUMBER'] - 1\n",
        "end_codon = orfs['SPIKE']['END_CODON']\n",
        "end_posix = orfs['SPIKE']['END_NUMBER']\n",
        "\n",
        "if exists(output_file_quality):\n",
        "    empty_file(output_file_quality)\n",
        "if exists(output_file_fasta):\n",
        "    empty_file(output_file_fasta)\n",
        "if exists(output_file_final):\n",
        "    empty_file(output_file_final)\n",
        "\n",
        "#CRIANDO HEADER DO ARQUIVO CSV DE QUALIDADE\n",
        "write_header(output_file_quality)\n",
        "\n",
        "#LENDO O ARQUIVO DE ENTRADA FASTA, NECESSÁRIO CHAMAR CADA VEZ QUE FOR ITERAR SOBRE AS SEQUENCIAS \n",
        "fasta_sequences = SeqIO.parse(open(input_fasta),'fasta')\n",
        "\n",
        "#OLHANDO CADAS SEQUENCIA UNITARIAMENTE\n",
        "for fasta in fasta_sequences:\n",
        "    \n",
        "    #PEGANDO NOME E SEQUENCIA DAS AMOSTRAS \n",
        "    name, sequence = fasta.id, str(fasta.seq)\n",
        "    \n",
        "    #ORF\n",
        "    orf = sequence[start_posix : end_posix]\n",
        "    \n",
        "    #ANALISE DE PARAMETROS DE QUALIDADE\n",
        "    gaps = orf.count('-')\n",
        "    nbase = orf.count('N')\n",
        "    lenght = len(orf)\n",
        "    \n",
        "    #TESTA SE O START CODON E O END CODON SÃO OS ESPERADOS\n",
        "    if not ( orf[:3] == start_codon and orf[-3:] == end_codon):\n",
        "        print(f'Sample:{name} com inicio ou final divergente: inicio:{orf[:5]}\\tfinal:{orf[-3:]}')\n",
        "        write_fasta('problems_SPIKE.fa',name,sequence)\n",
        "\n",
        "    if 'N' in orf:\n",
        "        orf_sem_n = orf.replace('N', '')\n",
        "\n",
        "          #SALVANDO AS SEQUENCIAS \n",
        "        write_fasta(output_file_final,name,orf_sem_n)\n",
        "        count_nseq += 1\n",
        "    else:\n",
        "         write_fasta(output_file_fasta,name,orf)\n",
        "         #print (f'SAMPLE:(name)\\tORF:Spike')\n",
        "         count_seq += 1\n",
        "         #ESCREVENDO PARAMETROS DE QUALIDADE\n",
        "         write_quality(output_file_quality,name,gaps,nbase,lenght,orf[:3],orf[-3:],start_posix,end_posix)\n",
        "print(count_seq)\n",
        "print(count_nseq)"
      ]
    },
    {
      "cell_type": "markdown",
      "id": "f26b350f-cebd-43c8-bc83-0e368ec162c3",
      "metadata": {
        "id": "f26b350f-cebd-43c8-bc83-0e368ec162c3"
      },
      "source": [
        "# ORF 3A"
      ]
    },
    {
      "cell_type": "code",
      "execution_count": 53,
      "id": "d99e5338-f47f-4757-b347-b4f14969dc99",
      "metadata": {
        "tags": [],
        "id": "d99e5338-f47f-4757-b347-b4f14969dc99",
        "outputId": "58c8c4e3-965d-4f99-9827-7fa9d4ba9102",
        "colab": {
          "base_uri": "https://localhost:8080/"
        }
      },
      "outputs": [
        {
          "output_type": "stream",
          "name": "stdout",
          "text": [
            "Sample:hCoV-19/Brazil/GO-HLAGYN-1608920/2021 com inicio ou final divergente: inicio:A--GA\tfinal:TAA\n",
            "40309\n",
            "2731\n"
          ]
        }
      ],
      "source": [
        "#DECLARAÇÃO DE VARIAVEIS UNICAS PRA CADA ORF\n",
        "#Arquivos\n",
        "output_file_quality = './output/quality_ORF_3A.csv'\n",
        "output_file_fasta = './output/ORF_3A.fasta'\n",
        "output_file_final = './output/final_ORF_3A.fasta'\n",
        "#posições genomicas\n",
        "start_codon = orfs['3A']['START_CODON']\n",
        "start_posix = orfs['3A']['START_NUMBER'] - 1\n",
        "end_codon = orfs['3A']['END_CODON']\n",
        "end_posix = orfs['3A']['END_NUMBER']\n",
        "\n",
        "if exists(output_file_quality):\n",
        "    empty_file(output_file_quality)\n",
        "if exists(output_file_fasta):\n",
        "    empty_file(output_file_fasta)\n",
        "if exists(output_file_final):\n",
        "    empty_file(output_file_final)\n",
        "\n",
        "#CRIANDO HEADER DO ARQUIVO CSV DE QUALIDADE\n",
        "write_header(output_file_quality)\n",
        "\n",
        "#LENDO O ARQUIVO DE ENTRADA FASTA, NECESSÁRIO CHAMAR CADA VEZ QUE FOR ITERAR SOBRE AS SEQUENCIAS \n",
        "fasta_sequences = SeqIO.parse(open(input_fasta),'fasta')\n",
        "\n",
        "#OLHANDO CADAS SEQUENCIA UNITARIAMENTE\n",
        "for fasta in fasta_sequences:\n",
        "    \n",
        "    #PEGANDO NOME E SEQUENCIA DAS AMOSTRAS \n",
        "    name, sequence = fasta.id, str(fasta.seq)\n",
        "    \n",
        "    #ORF\n",
        "    orf = sequence[start_posix : end_posix]\n",
        "    \n",
        "    #ANALISE DE PARAMETROS DE QUALIDADE\n",
        "    gaps = orf.count('-')\n",
        "    nbase = orf.count('N')\n",
        "    lenght = len(orf)\n",
        "    \n",
        "    #TESTA SE O START CODON E O END CODON SÃO OS ESPERADOS\n",
        "    if not (orf[:3] == start_codon and orf[-3:] == end_codon):\n",
        "        print(f'Sample:{name} com inicio ou final divergente: inicio:{orf[:5]}\\tfinal:{orf[-3:]}')\n",
        "        write_fasta('problems_3A.fa',name,sequence)\n",
        "\n",
        "    if 'N' in orf:\n",
        "        orf_sem_n = orf.replace('N', '')\n",
        "\n",
        "          #SALVANDO AS SEQUENCIAS \n",
        "        write_fasta(output_file_final,name,orf_sem_n)\n",
        "        count_nseq += 1\n",
        "    else:\n",
        "         write_fasta(output_file_fasta,name,orf)\n",
        "         #print (f'SAMPLE:(name)\\tORF:3A')\n",
        "         count_seq += 1\n",
        "         #ESCREVENDO PARAMETROS DE QUALIDADE\n",
        "         write_quality(output_file_quality,name,gaps,nbase,lenght,orf[:3],orf[-3:],start_posix,end_posix)\n",
        "print(count_seq)\n",
        "print(count_nseq)"
      ]
    },
    {
      "cell_type": "markdown",
      "id": "e779abd2-962a-4077-ab4a-13137b0fe8ca",
      "metadata": {
        "id": "e779abd2-962a-4077-ab4a-13137b0fe8ca"
      },
      "source": [
        "# ORF 4"
      ]
    },
    {
      "cell_type": "code",
      "execution_count": 54,
      "id": "4aa1bb19-64b6-4331-a2c1-72016c5f984e",
      "metadata": {
        "tags": [],
        "id": "4aa1bb19-64b6-4331-a2c1-72016c5f984e",
        "colab": {
          "base_uri": "https://localhost:8080/"
        },
        "outputId": "a72accd3-156d-47e5-8d35-e04fede79247"
      },
      "outputs": [
        {
          "output_type": "stream",
          "name": "stdout",
          "text": [
            "44613\n",
            "2731\n"
          ]
        }
      ],
      "source": [
        "#DECLARAÇÃO DE VARIAVEIS UNICAS PRA CADA ORF\n",
        "#Arquivos\n",
        "output_file_quality = './output/quality_ORF_4.csv'\n",
        "output_file_fasta = './output/ORF_4.fasta'\n",
        "output_file_final = './output/final_ORF_4.fasta'\n",
        "#posições genomicas\n",
        "start_codon = orfs['4']['START_CODON']\n",
        "start_posix = orfs['4']['START_NUMBER'] - 1\n",
        "end_codon = orfs['4']['END_CODON']\n",
        "end_posix = orfs['4']['END_NUMBER']\n",
        "\n",
        "if exists(output_file_quality):\n",
        "    empty_file(output_file_quality)\n",
        "if exists(output_file_fasta):\n",
        "    empty_file(output_file_fasta)\n",
        "if exists(output_file_final):\n",
        "    empty_file(output_file_final)\n",
        "\n",
        "\n",
        "#CRIANDO HEADER DO ARQUIVO CSV DE QUALIDADE\n",
        "write_header(output_file_quality)\n",
        "\n",
        "#LENDO O ARQUIVO DE ENTRADA FASTA, NECESSÁRIO CHAMAR CADA VEZ QUE FOR ITERAR SOBRE AS SEQUENCIAS \n",
        "fasta_sequences = SeqIO.parse(open(input_fasta),'fasta')\n",
        "\n",
        "#OLHANDO CADAS SEQUENCIA UNITARIAMENTE\n",
        "for fasta in fasta_sequences:\n",
        "    \n",
        "    #PEGANDO NOME E SEQUENCIA DAS AMOSTRAS \n",
        "    name, sequence = fasta.id, str(fasta.seq)\n",
        "    \n",
        "    #ORF\n",
        "    orf = sequence[start_posix : end_posix]\n",
        "    \n",
        "    #ANALISE DE PARAMETROS DE QUALIDADE\n",
        "    gaps = orf.count('-')\n",
        "    nbase = orf.count('N')\n",
        "    lenght = len(orf)\n",
        "    \n",
        "    #TESTA SE O START CODON E O END CODON SÃO OS ESPERADOS\n",
        "    if not (orf[:3] == start_codon and orf[-3:] == end_codon):\n",
        "        print(f'Sample:{name} com inicio ou final divergente: inicio:{orf[:5]}\\tfinal:{orf[-3:]}')\n",
        "        write_fasta('problems_4.fa',name,sequence)\n",
        "\n",
        "    if 'N' in orf:\n",
        "        orf_sem_n = orf.replace('N', '')\n",
        "\n",
        "          #SALVANDO AS SEQUENCIAS \n",
        "        write_fasta(output_file_final,name,orf_sem_n)\n",
        "        count_nseq += 1\n",
        "    else:\n",
        "         write_fasta(output_file_fasta,name,orf)\n",
        "         #print (f'SAMPLE:(name)\\tORF:4')\n",
        "         count_seq += 1\n",
        "         #ESCREVENDO PARAMETROS DE QUALIDADE\n",
        "         write_quality(output_file_quality,name,gaps,nbase,lenght,orf[:3],orf[-3:],start_posix,end_posix)\n",
        "print(count_seq)\n",
        "print(count_nseq)"
      ]
    },
    {
      "cell_type": "markdown",
      "id": "bafaac69-b547-45ee-972f-8ad46079c9e6",
      "metadata": {
        "id": "bafaac69-b547-45ee-972f-8ad46079c9e6"
      },
      "source": [
        "# ORF 5"
      ]
    },
    {
      "cell_type": "code",
      "execution_count": 55,
      "id": "37c652a7-ef6a-4b09-917c-5e4a27c94226",
      "metadata": {
        "tags": [],
        "id": "37c652a7-ef6a-4b09-917c-5e4a27c94226",
        "colab": {
          "base_uri": "https://localhost:8080/"
        },
        "outputId": "95ad97bf-f7a8-45fc-b1ad-2f7a898313d7"
      },
      "outputs": [
        {
          "output_type": "stream",
          "name": "stdout",
          "text": [
            "48917\n",
            "2731\n"
          ]
        }
      ],
      "source": [
        "#DECLARAÇÃO DE VARIAVEIS UNICAS PRA CADA ORF\n",
        "#Arquivos\n",
        "output_file_quality = './output/quality_ORF_5.csv'\n",
        "output_file_fasta = './output/ORF_5.fasta'\n",
        "output_file_final = './output/final_ORF_5.fasta'\n",
        "\n",
        "#posições genomicas\n",
        "start_codon = orfs['5']['START_CODON']\n",
        "start_posix = orfs['5']['START_NUMBER'] - 1\n",
        "end_codon = orfs['5']['END_CODON']\n",
        "end_posix = orfs['5']['END_NUMBER']\n",
        "\n",
        "if exists(output_file_quality):\n",
        "    empty_file(output_file_quality)\n",
        "if exists(output_file_fasta):\n",
        "    empty_file(output_file_fasta)\n",
        "if exists(output_file_final):\n",
        "    empty_file(output_file_final)\n",
        "\n",
        "\n",
        "#CRIANDO HEADER DO ARQUIVO CSV DE QUALIDADE\n",
        "write_header(output_file_quality)\n",
        "\n",
        "#LENDO O ARQUIVO DE ENTRADA FASTA, NECESSÁRIO CHAMAR CADA VEZ QUE FOR ITERAR SOBRE AS SEQUENCIAS \n",
        "fasta_sequences = SeqIO.parse(open(input_fasta),'fasta')\n",
        "\n",
        "#OLHANDO CADAS SEQUENCIA UNITARIAMENTE\n",
        "for fasta in fasta_sequences:\n",
        "    \n",
        "    #PEGANDO NOME E SEQUENCIA DAS AMOSTRAS \n",
        "    name, sequence = fasta.id, str(fasta.seq)\n",
        "    \n",
        "    #ORF\n",
        "    orf = sequence[start_posix : end_posix]\n",
        "    \n",
        "    #ANALISE DE PARAMETROS DE QUALIDADE\n",
        "    gaps = orf.count('-')\n",
        "    nbase = orf.count('N')\n",
        "    lenght = len(orf)\n",
        "    \n",
        "    #TESTA SE O START CODON E O END CODON SÃO OS ESPERADOS\n",
        "    if not (orf[:3] == start_codon and orf[-3:] == end_codon):\n",
        "        print(f'Sample:{name} com inicio ou final divergente: inicio:{orf[:5]}\\tfinal:{orf[-3:]}')\n",
        "        write_fasta('problems_5.fa',name,sequence)\n",
        "\n",
        "    if 'N' in orf:\n",
        "        orf_sem_n = orf.replace('N', '')\n",
        "\n",
        "          #SALVANDO AS SEQUENCIAS \n",
        "        write_fasta(output_file_final,name,orf_sem_n)\n",
        "        count_nseq += 1\n",
        "    else:\n",
        "         write_fasta(output_file_fasta,name,orf)\n",
        "         #print (f'SAMPLE:(name)\\tORF:5')\n",
        "         count_seq += 1\n",
        "         #ESCREVENDO PARAMETROS DE QUALIDADE\n",
        "         write_quality(output_file_quality,name,gaps,nbase,lenght,orf[:3],orf[-3:],start_posix,end_posix)\n",
        "print(count_seq)\n",
        "print(count_nseq)"
      ]
    },
    {
      "cell_type": "markdown",
      "id": "9c233388-334e-4175-8f27-99c184092562",
      "metadata": {
        "id": "9c233388-334e-4175-8f27-99c184092562"
      },
      "source": [
        "# ORF 6"
      ]
    },
    {
      "cell_type": "code",
      "execution_count": 61,
      "id": "9d4d92d6-b35c-4340-af07-3aad273118d6",
      "metadata": {
        "tags": [],
        "id": "9d4d92d6-b35c-4340-af07-3aad273118d6",
        "outputId": "65e5c0d1-fe2f-4040-e953-07de36a15935",
        "colab": {
          "base_uri": "https://localhost:8080/"
        }
      },
      "outputs": [
        {
          "output_type": "stream",
          "name": "stdout",
          "text": [
            "Sample:hCoV-19/Brazil/SP-844218/2021 com inicio ou final divergente: inicio:ATGTT\tfinal:NNN\n",
            "Sample:hCoV-19/Brazil/GO-HLAGYN-1521607/2021 com inicio ou final divergente: inicio:ATTTT\tfinal:TAA\n",
            "74636\n",
            "2836\n"
          ]
        }
      ],
      "source": [
        "#DECLARAÇÃO DE VARIAVEIS UNICAS PRA CADA ORF\n",
        "#Arquivos\n",
        "output_file_quality = './output/quality_ORF_6.csv'\n",
        "output_file_fasta = './output/ORF_6.fasta'\n",
        "output_file_final = './output/final_ORF_6.fasta'\n",
        "\n",
        "#posições genomicas\n",
        "start_codon = orfs['6']['START_CODON']\n",
        "start_posix = orfs['6']['START_NUMBER'] - 1\n",
        "end_codon = orfs['6']['END_CODON']\n",
        "end_posix = orfs['6']['END_NUMBER']\n",
        "\n",
        "if exists(output_file_quality):\n",
        "    empty_file(output_file_quality)\n",
        "if exists(output_file_fasta):\n",
        "    empty_file(output_file_fasta)\n",
        "if exists(output_file_final):\n",
        "    empty_file(output_file_final)\n",
        "\n",
        "\n",
        "#CRIANDO HEADER DO ARQUIVO CSV DE QUALIDADE\n",
        "write_header(output_file_quality)\n",
        "\n",
        "#LENDO O ARQUIVO DE ENTRADA FASTA, NECESSÁRIO CHAMAR CADA VEZ QUE FOR ITERAR SOBRE AS SEQUENCIAS \n",
        "fasta_sequences = SeqIO.parse(open(input_fasta),'fasta')\n",
        "\n",
        "#OLHANDO CADAS SEQUENCIA UNITARIAMENTE\n",
        "for fasta in fasta_sequences:\n",
        "    \n",
        "    #PEGANDO NOME E SEQUENCIA DAS AMOSTRAS \n",
        "    name, sequence = fasta.id, str(fasta.seq)\n",
        "    \n",
        "    #ORF\n",
        "    orf = sequence[start_posix : end_posix]\n",
        "    \n",
        "    #ANALISE DE PARAMETROS DE QUALIDADE\n",
        "    gaps = orf.count('-')\n",
        "    nbase = orf.count('N')\n",
        "    lenght = len(orf)\n",
        "    \n",
        "    #TESTA SE O START CODON E O END CODON SÃO OS ESPERADOS\n",
        "    if not (orf[:3] == start_codon and orf[-3:] == end_codon):\n",
        "        print(f'Sample:{name} com inicio ou final divergente: inicio:{orf[:5]}\\tfinal:{orf[-3:]}')\n",
        "        write_fasta('problems_6.fa',name,sequence)\n",
        "\n",
        "    if 'N' in orf:\n",
        "        orf_sem_n = orf.replace('N', '')\n",
        "\n",
        "          #SALVANDO AS SEQUENCIAS \n",
        "        write_fasta(output_file_final,name,orf_sem_n)\n",
        "        count_nseq += 1\n",
        "    else:\n",
        "         write_fasta(output_file_fasta,name,orf)\n",
        "         #print (f'SAMPLE:(name)\\tORF:6')\n",
        "         count_seq += 1\n",
        "         #ESCREVENDO PARAMETROS DE QUALIDADE\n",
        "         write_quality(output_file_quality,name,gaps,nbase,lenght,orf[:3],orf[-3:],start_posix,end_posix)\n",
        "print(count_seq)\n",
        "print(count_nseq)"
      ]
    },
    {
      "cell_type": "markdown",
      "id": "11e571a8-102c-477b-a631-7f13625d8a32",
      "metadata": {
        "id": "11e571a8-102c-477b-a631-7f13625d8a32"
      },
      "source": [
        "# ORF 7A"
      ]
    },
    {
      "cell_type": "code",
      "execution_count": 57,
      "id": "472641ca-93ae-4f1e-b5ee-e579486aefd2",
      "metadata": {
        "tags": [],
        "id": "472641ca-93ae-4f1e-b5ee-e579486aefd2",
        "colab": {
          "base_uri": "https://localhost:8080/"
        },
        "outputId": "1f5f8c12-f993-4945-947d-f0d65f56912c"
      },
      "outputs": [
        {
          "output_type": "stream",
          "name": "stdout",
          "text": [
            "Sample:hCoV-19/Brazil/SP-IB_100744/2021 com inicio ou final divergente: inicio:ATGAA\tfinal:TTA\n",
            "Sample:hCoV-19/Brazil/SP-IB_100746/2021 com inicio ou final divergente: inicio:ATGAA\tfinal:NNN\n",
            "Sample:hCoV-19/Brazil/SP-IB_100840/2021 com inicio ou final divergente: inicio:ATGAA\tfinal:TGT\n",
            "Sample:hCoV-19/Brazil/SP-IB_100842/2021 com inicio ou final divergente: inicio:ATGAA\tfinal:TGT\n",
            "Sample:hCoV-19/Brazil/SP-IB_101223/2021 com inicio ou final divergente: inicio:ATGAA\tfinal:NNN\n",
            "Sample:hCoV-19/Brazil/SP-IB_101283/2021 com inicio ou final divergente: inicio:ATGAA\tfinal:NNN\n",
            "Sample:hCoV-19/Brazil/SP-IB_101284/2021 com inicio ou final divergente: inicio:ATGAA\tfinal:NNN\n",
            "Sample:hCoV-19/Brazil/SP-IB_101346/2021 com inicio ou final divergente: inicio:ATGAA\tfinal:NNN\n",
            "Sample:hCoV-19/Brazil/SP-IB_101360/2021 com inicio ou final divergente: inicio:ATGAA\tfinal:NNN\n",
            "Sample:hCoV-19/Brazil/SP-IB_101382/2021 com inicio ou final divergente: inicio:ATGAA\tfinal:NNN\n",
            "Sample:hCoV-19/Brazil/RJ-LNN00439/2021 com inicio ou final divergente: inicio:ATGAA\tfinal:NNN\n",
            "Sample:hCoV-19/Brazil/SP-IB_100377/2021 com inicio ou final divergente: inicio:ATGAA\tfinal:NNN\n",
            "Sample:hCoV-19/Brazil/SP-IB_100551/2021 com inicio ou final divergente: inicio:ATGAA\tfinal:NNN\n",
            "Sample:hCoV-19/Brazil/SP-IB_100683/2021 com inicio ou final divergente: inicio:ATGAA\tfinal:NNN\n",
            "Sample:hCoV-19/Brazil/SP-765169-NBD01/2021 com inicio ou final divergente: inicio:ATGAA\tfinal:NNN\n",
            "Sample:hCoV-19/Brazil/SP-765451-NBD12/2021 com inicio ou final divergente: inicio:ATGAA\tfinal:NNN\n",
            "Sample:hCoV-19/Brazil/SP-770671-NBD09/2021 com inicio ou final divergente: inicio:ATGAA\tfinal:NNN\n",
            "Sample:hCoV-19/Brazil/SP-IAL-721576-NBD17/2021 com inicio ou final divergente: inicio:ATGAA\tfinal:NNN\n",
            "Sample:hCoV-19/Brazil/MG-LBI200/2021 com inicio ou final divergente: inicio:ATGAA\tfinal:TAA\n",
            "Sample:hCoV-19/Brazil/RJ-LNN00271/2021 com inicio ou final divergente: inicio:ATGAA\tfinal:--A\n",
            "Sample:hCoV-19/Brazil/SP-IB_100351/2021 com inicio ou final divergente: inicio:ATGAA\tfinal:TAA\n",
            "Sample:hCoV-19/Brazil/SP-IB_101313/2021 com inicio ou final divergente: inicio:ATGAA\tfinal:NNN\n",
            "Sample:hCoV-19/Brazil/SP-IB_101327/2021 com inicio ou final divergente: inicio:ATGAA\tfinal:NNN\n",
            "Sample:hCoV-19/Brazil/SP-IB_101329/2021 com inicio ou final divergente: inicio:ATGAA\tfinal:NNN\n",
            "Sample:hCoV-19/Brazil/GO-HLAGYN-1502133/2021 com inicio ou final divergente: inicio:ATGAA\tfinal:NNN\n",
            "Sample:hCoV-19/Brazil/SP-802030-NBD03/2021 com inicio ou final divergente: inicio:ATGAA\tfinal:NNN\n",
            "Sample:hCoV-19/Brazil/RJ-LNN00027/2021 com inicio ou final divergente: inicio:ATGAA\tfinal:NNN\n",
            "Sample:hCoV-19/Brazil/SP-844218/2021 com inicio ou final divergente: inicio:NNNNN\tfinal:TGA\n",
            "Sample:hCoV-19/Brazil/SP-IB_100146/2021 com inicio ou final divergente: inicio:ATGAA\tfinal:NNN\n",
            "Sample:hCoV-19/Brazil/SP-LNN00754/2021 com inicio ou final divergente: inicio:ATGAA\tfinal:TTA\n",
            "Sample:hCoV-19/Brazil/RS-HBM-39496/2021 com inicio ou final divergente: inicio:ATGAA\tfinal:NNN\n",
            "Sample:hCoV-19/Brazil/GO-HLAGYN-1638035/2021 com inicio ou final divergente: inicio:ATGAA\tfinal:TTA\n",
            "57487\n",
            "2769\n"
          ]
        }
      ],
      "source": [
        "#DECLARAÇÃO DE VARIAVEIS UNICAS PRA CADA ORF\n",
        "#Arquivos\n",
        "output_file_quality = './output/quality_ORF_7A.csv'\n",
        "output_file_fasta = './output/ORF_7A.fasta'\n",
        "output_file_final = './output/final_ORF_7A.fasta'\n",
        "\n",
        "#posições genomicas\n",
        "start_codon = orfs['7A']['START_CODON']\n",
        "start_posix = orfs['7A']['START_NUMBER'] - 1\n",
        "end_codon = orfs['7A']['END_CODON']\n",
        "end_posix = orfs['7A']['END_NUMBER']\n",
        "\n",
        "if exists(output_file_quality):\n",
        "    empty_file(output_file_quality)\n",
        "if exists(output_file_fasta):\n",
        "    empty_file(output_file_fasta)\n",
        "if exists(output_file_final):\n",
        "    empty_file(output_file_final)\n",
        "\n",
        "#CRIANDO HEADER DO ARQUIVO CSV DE QUALIDADE\n",
        "write_header(output_file_quality)\n",
        "\n",
        "#LENDO O ARQUIVO DE ENTRADA FASTA, NECESSÁRIO CHAMAR CADA VEZ QUE FOR ITERAR SOBRE AS SEQUENCIAS \n",
        "fasta_sequences = SeqIO.parse(open(input_fasta),'fasta')\n",
        "\n",
        "#OLHANDO CADAS SEQUENCIA UNITARIAMENTE\n",
        "for fasta in fasta_sequences:\n",
        "    \n",
        "    #PEGANDO NOME E SEQUENCIA DAS AMOSTRAS \n",
        "    name, sequence = fasta.id, str(fasta.seq)\n",
        "    \n",
        "    #ORF\n",
        "    orf = sequence[start_posix : end_posix]\n",
        "    \n",
        "    #ANALISE DE PARAMETROS DE QUALIDADE\n",
        "    gaps = orf.count('-')\n",
        "    nbase = orf.count('N')\n",
        "    lenght = len(orf)\n",
        "    \n",
        "    #TESTA SE O START CODON E O END CODON SÃO OS ESPERADOS\n",
        "    if not (orf[:3] == start_codon and orf[-3:] == end_codon):\n",
        "        print(f'Sample:{name} com inicio ou final divergente: inicio:{orf[:5]}\\tfinal:{orf[-3:]}')\n",
        "        write_fasta('problems_7A.fa',name,sequence)\n",
        "\n",
        "    if 'N' in orf:\n",
        "        orf_sem_n = orf.replace('N', '')\n",
        "\n",
        "          #SALVANDO AS SEQUENCIAS \n",
        "        write_fasta(output_file_final,name,orf_sem_n)\n",
        "        count_nseq += 1\n",
        "    else:\n",
        "         write_fasta(output_file_fasta,name,orf)\n",
        "         #print (f'SAMPLE:(name)\\tORF:6')\n",
        "         count_seq += 1\n",
        "         #ESCREVENDO PARAMETROS DE QUALIDADE\n",
        "         write_quality(output_file_quality,name,gaps,nbase,lenght,orf[:3],orf[-3:],start_posix,end_posix)\n",
        "print(count_seq)\n",
        "print(count_nseq)"
      ]
    },
    {
      "cell_type": "markdown",
      "id": "60ffc3c9-8c81-4e8e-9e88-27efc74540ff",
      "metadata": {
        "id": "60ffc3c9-8c81-4e8e-9e88-27efc74540ff"
      },
      "source": [
        "## ORF 7B"
      ]
    },
    {
      "cell_type": "code",
      "execution_count": 58,
      "id": "4730ffce-bb59-4e25-b252-ae5a34b0699e",
      "metadata": {
        "id": "4730ffce-bb59-4e25-b252-ae5a34b0699e",
        "outputId": "2cc00ddb-b603-498a-d01e-8850e991b56e",
        "colab": {
          "base_uri": "https://localhost:8080/"
        }
      },
      "outputs": [
        {
          "output_type": "stream",
          "name": "stdout",
          "text": [
            "Sample:hCoV-19/Brazil/SP-IB_100744/2021 com inicio ou final divergente: inicio:ATTAT\tfinal:TAA\n",
            "Sample:hCoV-19/Brazil/SP-IB_100746/2021 com inicio ou final divergente: inicio:NNNNN\tfinal:TAA\n",
            "Sample:hCoV-19/Brazil/SP-IB_101223/2021 com inicio ou final divergente: inicio:NNNNN\tfinal:TAA\n",
            "Sample:hCoV-19/Brazil/SP-IB_101283/2021 com inicio ou final divergente: inicio:NNNNN\tfinal:TAA\n",
            "Sample:hCoV-19/Brazil/SP-IB_101284/2021 com inicio ou final divergente: inicio:NNNNN\tfinal:TAA\n",
            "Sample:hCoV-19/Brazil/SP-IB_101346/2021 com inicio ou final divergente: inicio:NNNNN\tfinal:TAA\n",
            "Sample:hCoV-19/Brazil/SP-IB_101360/2021 com inicio ou final divergente: inicio:NNNNN\tfinal:TAA\n",
            "Sample:hCoV-19/Brazil/SP-IB_101382/2021 com inicio ou final divergente: inicio:NNNNN\tfinal:TAA\n",
            "Sample:hCoV-19/Brazil/SP-IB_101401/2021 com inicio ou final divergente: inicio:ATGAT\tfinal:NNN\n",
            "Sample:hCoV-19/Brazil/RJ-LNN00412/2021 com inicio ou final divergente: inicio:ATGAT\tfinal:NNN\n",
            "Sample:hCoV-19/Brazil/RJ-LNN00439/2021 com inicio ou final divergente: inicio:NNNNN\tfinal:TAA\n",
            "Sample:hCoV-19/Brazil/SP-IB_100377/2021 com inicio ou final divergente: inicio:NNNNN\tfinal:TAA\n",
            "Sample:hCoV-19/Brazil/SP-IB_100551/2021 com inicio ou final divergente: inicio:NNNNN\tfinal:TAA\n",
            "Sample:hCoV-19/Brazil/SP-IB_100683/2021 com inicio ou final divergente: inicio:NNNNN\tfinal:TAA\n",
            "Sample:hCoV-19/Brazil/SP-765169-NBD01/2021 com inicio ou final divergente: inicio:NNNNN\tfinal:TAA\n",
            "Sample:hCoV-19/Brazil/SP-765451-NBD12/2021 com inicio ou final divergente: inicio:NNNNN\tfinal:TAA\n",
            "Sample:hCoV-19/Brazil/SP-770671-NBD09/2021 com inicio ou final divergente: inicio:NNNNN\tfinal:TAA\n",
            "Sample:hCoV-19/Brazil/SP-IAL-721576-NBD17/2021 com inicio ou final divergente: inicio:NNNNN\tfinal:TAA\n",
            "Sample:hCoV-19/Brazil/MG-LBI200/2021 com inicio ou final divergente: inicio:ATAAA\tfinal:TAA\n",
            "Sample:hCoV-19/Brazil/RJ-LNN00271/2021 com inicio ou final divergente: inicio:---AT\tfinal:TAA\n",
            "Sample:hCoV-19/Brazil/SP-IB_100351/2021 com inicio ou final divergente: inicio:ATAAA\tfinal:TAA\n",
            "Sample:hCoV-19/Brazil/SP-IB_101313/2021 com inicio ou final divergente: inicio:NNNNN\tfinal:TAA\n",
            "Sample:hCoV-19/Brazil/SP-IB_101327/2021 com inicio ou final divergente: inicio:NNNNN\tfinal:TAA\n",
            "Sample:hCoV-19/Brazil/SP-IB_101329/2021 com inicio ou final divergente: inicio:NNNNN\tfinal:TAA\n",
            "Sample:hCoV-19/Brazil/GO-HLAGYN-1502133/2021 com inicio ou final divergente: inicio:NNNNN\tfinal:TAA\n",
            "Sample:hCoV-19/Brazil/SP-802030-NBD03/2021 com inicio ou final divergente: inicio:NNNNN\tfinal:TAA\n",
            "Sample:hCoV-19/Brazil/RJ-LNN00027/2021 com inicio ou final divergente: inicio:NNNNN\tfinal:TAA\n",
            "Sample:hCoV-19/Brazil/SP-IB_100146/2021 com inicio ou final divergente: inicio:NNNNN\tfinal:TAA\n",
            "Sample:hCoV-19/Brazil/SP-LNN00754/2021 com inicio ou final divergente: inicio:ATTAT\tfinal:TAA\n",
            "Sample:hCoV-19/Brazil/RS-HBM-39496/2021 com inicio ou final divergente: inicio:NNNNN\tfinal:TAA\n",
            "Sample:hCoV-19/Brazil/GO-HLAGYN-1600291/2021 com inicio ou final divergente: inicio:ATGAT\tfinal:NNN\n",
            "Sample:hCoV-19/Brazil/GO-HLAGYN-1638035/2021 com inicio ou final divergente: inicio:ATTAT\tfinal:TAA\n",
            "61759\n",
            "2801\n"
          ]
        }
      ],
      "source": [
        "#DECLARAÇÃO DE VARIAVEIS UNICAS PRA CADA ORF\n",
        "#Arquivos\n",
        "output_file_quality = './output/quality_ORF_7B.csv'\n",
        "output_file_fasta = './output/ORF_7B.fasta'\n",
        "output_file_final = './output/final_ORF_7B.fasta'\n",
        "#posições genomicas\n",
        "start_codon = orfs['7B']['START_CODON']\n",
        "start_posix = orfs['7B']['START_NUMBER'] - 1\n",
        "end_codon = orfs['7B']['END_CODON']\n",
        "end_posix = orfs['7B']['END_NUMBER']\n",
        "\n",
        "if exists(output_file_quality):\n",
        "    empty_file(output_file_quality)\n",
        "if exists(output_file_fasta):\n",
        "    empty_file(output_file_fasta)\n",
        "if exists(output_file_final):\n",
        "    empty_file(output_file_final)\n",
        "\n",
        "#CRIANDO HEADER DO ARQUIVO CSV DE QUALIDADE\n",
        "write_header(output_file_quality)\n",
        "\n",
        "#LENDO O ARQUIVO DE ENTRADA FASTA, NECESSÁRIO CHAMAR CADA VEZ QUE FOR ITERAR SOBRE AS SEQUENCIAS \n",
        "fasta_sequences = SeqIO.parse(open(input_fasta),'fasta')\n",
        "\n",
        "#OLHANDO CADAS SEQUENCIA UNITARIAMENTE\n",
        "for fasta in fasta_sequences:\n",
        "    \n",
        "    #PEGANDO NOME E SEQUENCIA DAS AMOSTRAS \n",
        "    name, sequence = fasta.id, str(fasta.seq)\n",
        "    \n",
        "    #ORF\n",
        "    orf = sequence[start_posix : end_posix]\n",
        "    \n",
        "    #ANALISE DE PARAMETROS DE QUALIDADE\n",
        "    gaps = orf.count('-')\n",
        "    nbase = orf.count('N')\n",
        "    lenght = len(orf)\n",
        "    \n",
        "    #TESTA SE O START CODON E O END CODON SÃO OS ESPERADOS\n",
        "    if not (orf[:3] == start_codon and orf[-3:] == end_codon):\n",
        "        print(f'Sample:{name} com inicio ou final divergente: inicio:{orf[:5]}\\tfinal:{orf[-3:]}')\n",
        "        write_fasta('problems_7B.fa',name,sequence)\n",
        "\n",
        "    if 'N' in orf:\n",
        "        orf_sem_n = orf.replace('N', '')\n",
        "\n",
        "          #SALVANDO AS SEQUENCIAS \n",
        "        write_fasta(output_file_final,name,orf_sem_n)\n",
        "        count_nseq += 1\n",
        "    else:\n",
        "         write_fasta(output_file_fasta,name,orf)\n",
        "         #print (f'SAMPLE:(name)\\tORF:6')\n",
        "         count_seq += 1\n",
        "         #ESCREVENDO PARAMETROS DE QUALIDADE\n",
        "         write_quality(output_file_quality,name,gaps,nbase,lenght,orf[:3],orf[-3:],start_posix,end_posix)\n",
        "print(count_seq)\n",
        "print(count_nseq)"
      ]
    },
    {
      "cell_type": "markdown",
      "id": "30ceb36b-3250-493b-bb76-33c0a577637e",
      "metadata": {
        "id": "30ceb36b-3250-493b-bb76-33c0a577637e"
      },
      "source": [
        "# ORF 8"
      ]
    },
    {
      "cell_type": "code",
      "execution_count": 60,
      "id": "3bf69747-2630-4e5d-87f3-efb8a7e73f7a",
      "metadata": {
        "tags": [],
        "id": "3bf69747-2630-4e5d-87f3-efb8a7e73f7a",
        "outputId": "50761fa3-69af-4764-f44a-afa96e55a3f2",
        "colab": {
          "base_uri": "https://localhost:8080/"
        }
      },
      "outputs": [
        {
          "output_type": "stream",
          "name": "stdout",
          "text": [
            "Sample:hCoV-19/Brazil/SP-IB_101401/2021 com inicio ou final divergente: inicio:NNNNN\tfinal:TAA\n",
            "Sample:hCoV-19/Brazil/RJ-LNN00412/2021 com inicio ou final divergente: inicio:NNNNN\tfinal:TAA\n",
            "Sample:hCoV-19/Brazil/MA-FIOCRUZ-21553/2021 com inicio ou final divergente: inicio:ATGAA\tfinal:NNA\n",
            "Sample:hCoV-19/Brazil/SP-IB_102933/2021 com inicio ou final divergente: inicio:ATGAA\tfinal:GAA\n",
            "Sample:hCoV-19/Brazil/SP-49932-21/2021 com inicio ou final divergente: inicio:ATGAA\tfinal:NNA\n",
            "Sample:hCoV-19/Brazil/RJ-LNN00564/2021 com inicio ou final divergente: inicio:NNNNN\tfinal:TAA\n",
            "Sample:hCoV-19/Brazil/SP-IB_100365/2021 com inicio ou final divergente: inicio:ATGAA\tfinal:GAA\n",
            "Sample:hCoV-19/Brazil/GO-HLAGYN-1600291/2021 com inicio ou final divergente: inicio:NNNNN\tfinal:TAA\n",
            "70333\n",
            "2835\n"
          ]
        }
      ],
      "source": [
        "#DECLARAÇÃO DE VARIAVEIS UNICAS PRA CADA ORF\n",
        "#Arquivos\n",
        "output_file_quality = './output/quality_ORF_8.csv'\n",
        "output_file_fasta = './output/ORF_8.fasta'\n",
        "output_file_final = './output/final_ORF_8.fasta'\n",
        "#posições genomicas\n",
        "start_codon = orfs['8']['START_CODON']\n",
        "start_posix = orfs['8']['START_NUMBER'] - 1\n",
        "end_codon = orfs['8']['END_CODON']\n",
        "end_posix = orfs['8']['END_NUMBER']\n",
        "\n",
        "if exists(output_file_quality):\n",
        "    empty_file(output_file_quality)\n",
        "if exists(output_file_fasta):\n",
        "    empty_file(output_file_fasta)\n",
        "if exists(output_file_final):\n",
        "    empty_file(output_file_final)\n",
        "\n",
        "#CRIANDO HEADER DO ARQUIVO CSV DE QUALIDADE\n",
        "write_header(output_file_quality)\n",
        "\n",
        "#LENDO O ARQUIVO DE ENTRADA FASTA, NECESSÁRIO CHAMAR CADA VEZ QUE FOR ITERAR SOBRE AS SEQUENCIAS \n",
        "fasta_sequences = SeqIO.parse(open(input_fasta),'fasta')\n",
        "\n",
        "#OLHANDO CADAS SEQUENCIA UNITARIAMENTE\n",
        "for fasta in fasta_sequences:\n",
        "    \n",
        "    #PEGANDO NOME E SEQUENCIA DAS AMOSTRAS \n",
        "    name, sequence = fasta.id, str(fasta.seq)\n",
        "    \n",
        "    #ORF\n",
        "    orf = sequence[start_posix : end_posix]\n",
        "    \n",
        "    #ANALISE DE PARAMETROS DE QUALIDADE\n",
        "    gaps = orf.count('-')\n",
        "    nbase = orf.count('N')\n",
        "    lenght = len(orf)\n",
        "    \n",
        "    #TESTA SE O START CODON E O END CODON SÃO OS ESPERADOS\n",
        "    if not (orf[:3] == start_codon and orf[-3:] == end_codon):\n",
        "        print(f'Sample:{name} com inicio ou final divergente: inicio:{orf[:5]}\\tfinal:{orf[-3:]}')\n",
        "        write_fasta('problems_8.fa',name,sequence)\n",
        "\n",
        "    if 'N' in orf:\n",
        "        orf_sem_n = orf.replace('N', '')\n",
        "\n",
        "          #SALVANDO AS SEQUENCIAS \n",
        "        write_fasta(output_file_final,name,orf_sem_n)\n",
        "        count_nseq += 1\n",
        "    else:\n",
        "         write_fasta(output_file_fasta,name,orf)\n",
        "         #print (f'SAMPLE:(name)\\tORF:6')\n",
        "         count_seq += 1\n",
        "         #ESCREVENDO PARAMETROS DE QUALIDADE\n",
        "         write_quality(output_file_quality,name,gaps,nbase,lenght,orf[:3],orf[-3:],start_posix,end_posix)\n",
        "print(count_seq)\n",
        "print(count_nseq)"
      ]
    },
    {
      "cell_type": "markdown",
      "id": "b55ee004-7c6f-49b6-bc96-ff0c54b6185a",
      "metadata": {
        "id": "b55ee004-7c6f-49b6-bc96-ff0c54b6185a"
      },
      "source": [
        "# ORF 9"
      ]
    },
    {
      "cell_type": "code",
      "execution_count": null,
      "id": "cf190669-9a25-4ac0-bca8-1c5eca3ebce3",
      "metadata": {
        "tags": [],
        "id": "cf190669-9a25-4ac0-bca8-1c5eca3ebce3"
      },
      "outputs": [],
      "source": [
        "#DECLARAÇÃO DE VARIAVEIS UNICAS PRA CADA ORF\n",
        "#Arquivos\n",
        "output_file_quality = './output/quality_ORF_9.csv'\n",
        "output_file_fasta = './output/ORF_9.fasta'\n",
        "output_file_final = './output/final_ORF_9.fasta'\n",
        "#posições genomicas\n",
        "start_codon = orfs['9']['START_CODON']\n",
        "start_posix = orfs['9']['START_NUMBER'] - 1\n",
        "end_codon = orfs['9']['END_CODON']\n",
        "end_posix = orfs['9']['END_NUMBER']\n",
        "\n",
        "if exists(output_file_quality):\n",
        "    empty_file(output_file_quality)\n",
        "if exists(output_file_fasta):\n",
        "    empty_file(output_file_fasta)\n",
        "if exists(output_file_final):\n",
        "    empty_file(output_file_final)\n",
        "\n",
        "#CRIANDO HEADER DO ARQUIVO CSV DE QUALIDADE\n",
        "write_header(output_file_quality)\n",
        "\n",
        "#LENDO O ARQUIVO DE ENTRADA FASTA, NECESSÁRIO CHAMAR CADA VEZ QUE FOR ITERAR SOBRE AS SEQUENCIAS \n",
        "fasta_sequences = SeqIO.parse(open(input_fasta),'fasta')\n",
        "\n",
        "#OLHANDO CADAS SEQUENCIA UNITARIAMENTE\n",
        "for fasta in fasta_sequences:\n",
        "    \n",
        "    #PEGANDO NOME E SEQUENCIA DAS AMOSTRAS \n",
        "    name, sequence = fasta.id, str(fasta.seq)\n",
        "    \n",
        "    #ORF\n",
        "    orf = sequence[start_posix : end_posix]\n",
        "    \n",
        "    #ANALISE DE PARAMETROS DE QUALIDADE\n",
        "    gaps = orf.count('-')\n",
        "    nbase = orf.count('N')\n",
        "    lenght = len(orf)\n",
        "    \n",
        "    #TESTA SE O START CODON E O END CODON SÃO OS ESPERADOS\n",
        "    if not (orf[:3] == start_codon and orf[-3:] == end_codon):\n",
        "        print(f'Sample:{name} com inicio ou final divergente: inicio:{orf[:5]}\\tfinal:{orf[-3:]}')\n",
        "        write_fasta('problems_9.fa',name,sequence)\n",
        "\n",
        "    if 'N' in orf:\n",
        "        orf_sem_n = orf.replace('N', '')\n",
        "\n",
        "          #SALVANDO AS SEQUENCIAS \n",
        "        write_fasta(output_file_final,name,orf_sem_n)\n",
        "        count_nseq += 1\n",
        "    else:\n",
        "         write_fasta(output_file_fasta,name,orf)\n",
        "         #print (f'SAMPLE:(name)\\tORF:6')\n",
        "         count_seq += 1\n",
        "         #ESCREVENDO PARAMETROS DE QUALIDADE\n",
        "         write_quality(output_file_quality,name,gaps,nbase,lenght,orf[:3],orf[-3:],start_posix,end_posix)\n",
        "print(count_seq)\n",
        "print(count_nseq)"
      ]
    },
    {
      "cell_type": "markdown",
      "id": "40c6b0f5-a6f6-4d2f-8db4-07e7b42fee14",
      "metadata": {
        "id": "40c6b0f5-a6f6-4d2f-8db4-07e7b42fee14"
      },
      "source": [
        "# ORF 10"
      ]
    },
    {
      "cell_type": "code",
      "execution_count": null,
      "id": "502b3661-c7b8-41ef-87ea-918c6a0beada",
      "metadata": {
        "tags": [],
        "id": "502b3661-c7b8-41ef-87ea-918c6a0beada",
        "outputId": "a512d0bf-e1e2-4de8-b797-8b67efe3a4ec"
      },
      "outputs": [
        {
          "name": "stdout",
          "output_type": "stream",
          "text": [
            "Sample:hCoV-19/Brazil/AM-FIOCRUZ-20143088ER/2020 com inicio ou final divergente: inicio:ATGGG\tfinal:---\n",
            "Sample:hCoV-19/Brazil/SP-IB_100745/2021 com inicio ou final divergente: inicio:ATGGG\tfinal:TA-\n",
            "Sample:hCoV-19/Brazil/SP-SJRP309/2021 com inicio ou final divergente: inicio:ATTGG\tfinal:TAG\n",
            "Sample:hCoV-19/Brazil/SP-SJRP49644/2021 com inicio ou final divergente: inicio:ATGGG\tfinal:---\n",
            "Sample:hCoV-19/Brazil/SP-SJRP49645/2021 com inicio ou final divergente: inicio:ATGGG\tfinal:---\n",
            "Sample:hCoV-19/Brazil/SP-SJRP49646/2021 com inicio ou final divergente: inicio:ATGGG\tfinal:---\n",
            "Sample:hCoV-19/Brazil/SP-SJRP49647/2021 com inicio ou final divergente: inicio:ATGGG\tfinal:TA-\n",
            "Sample:hCoV-19/Brazil/SP-SJRP49653/2021 com inicio ou final divergente: inicio:ATGGG\tfinal:---\n",
            "Sample:hCoV-19/Brazil/SP-SJRP49662/2021 com inicio ou final divergente: inicio:ATGGG\tfinal:---\n",
            "Sample:hCoV-19/Brazil/SC-FIOCRUZ-9767/2021 com inicio ou final divergente: inicio:ATGGG\tfinal:---\n",
            "Sample:hCoV-19/Brazil/SC-FIOCRUZ-9766/2021 com inicio ou final divergente: inicio:ATGGG\tfinal:---\n",
            "Sample:hCoV-19/Brazil/SC-FIOCRUZ-9731/2021 com inicio ou final divergente: inicio:ATGGG\tfinal:---\n",
            "Sample:hCoV-19/Brazil/SC-FIOCRUZ-9769/2021 com inicio ou final divergente: inicio:ATGGG\tfinal:---\n",
            "Sample:hCoV-19/Brazil/SC-FIOCRUZ-11188/2021 com inicio ou final divergente: inicio:ATGGG\tfinal:---\n",
            "Sample:hCoV-19/Brazil/SC-FIOCRUZ-14559/2021 com inicio ou final divergente: inicio:ATGGG\tfinal:---\n",
            "Sample:hCoV-19/Brazil/SC-FIOCRUZ-14557/2021 com inicio ou final divergente: inicio:ATGGG\tfinal:---\n",
            "Sample:hCoV-19/Brazil/SC-FIOCRUZ-7173/2021 com inicio ou final divergente: inicio:ATGGG\tfinal:---\n",
            "Sample:hCoV-19/Brazil/SC-FIOCRUZ-14558/2021 com inicio ou final divergente: inicio:ATGGG\tfinal:---\n",
            "Sample:hCoV-19/Brazil/SC-FIOCRUZ-14560/2021 com inicio ou final divergente: inicio:ATGGG\tfinal:---\n",
            "Sample:hCoV-19/Brazil/SC-FIOCRUZ-14561/2021 com inicio ou final divergente: inicio:ATGGG\tfinal:---\n",
            "Sample:hCoV-19/Brazil/SC-FIOCRUZ-14562/2021 com inicio ou final divergente: inicio:ATGGG\tfinal:---\n",
            "Sample:hCoV-19/Brazil/SC-FIOCRUZ-14564/2021 com inicio ou final divergente: inicio:ATGGG\tfinal:---\n",
            "Sample:hCoV-19/Brazil/SC-FIOCRUZ-14565/2021 com inicio ou final divergente: inicio:ATGGG\tfinal:---\n",
            "Sample:hCoV-19/Brazil/SC-FIOCRUZ-14566/2021 com inicio ou final divergente: inicio:ATGGG\tfinal:---\n",
            "Sample:hCoV-19/Brazil/SC-FIOCRUZ-11193/2021 com inicio ou final divergente: inicio:ATGGG\tfinal:---\n",
            "Sample:hCoV-19/Brazil/SC-FIOCRUZ-14568/2021 com inicio ou final divergente: inicio:ATGGG\tfinal:---\n",
            "Sample:hCoV-19/Brazil/SC-FIOCRUZ-14569/2021 com inicio ou final divergente: inicio:ATGGG\tfinal:---\n",
            "Sample:hCoV-19/Brazil/SC-FIOCRUZ-14570/2021 com inicio ou final divergente: inicio:ATGGG\tfinal:---\n",
            "Sample:hCoV-19/Brazil/SC-FIOCRUZ-11189/2021 com inicio ou final divergente: inicio:ATGGG\tfinal:---\n",
            "Sample:hCoV-19/Brazil/SC-FIOCRUZ-11183/2021 com inicio ou final divergente: inicio:ATGGG\tfinal:---\n",
            "Sample:hCoV-19/Brazil/SC-FIOCRUZ-10872/2021 com inicio ou final divergente: inicio:ATGGG\tfinal:---\n",
            "Sample:hCoV-19/Brazil/SC-FIOCRUZ-10866/2021 com inicio ou final divergente: inicio:ATGGG\tfinal:---\n",
            "Sample:hCoV-19/Brazil/SC-FIOCRUZ-11049/2021 com inicio ou final divergente: inicio:ATGGG\tfinal:---\n",
            "Sample:hCoV-19/Brazil/SC-FIOCRUZ-11050/2021 com inicio ou final divergente: inicio:ATGGG\tfinal:---\n",
            "Sample:hCoV-19/Brazil/SC-FIOCRUZ-11051/2021 com inicio ou final divergente: inicio:ATGGG\tfinal:---\n",
            "Sample:hCoV-19/Brazil/SC-FIOCRUZ-11052/2021 com inicio ou final divergente: inicio:ATGGG\tfinal:---\n",
            "Sample:hCoV-19/Brazil/SC-FIOCRUZ-14567/2021 com inicio ou final divergente: inicio:ATGGG\tfinal:---\n",
            "Sample:hCoV-19/Brazil/PR-FIOCRUZ-9305/2021 com inicio ou final divergente: inicio:ATGGG\tfinal:---\n",
            "Sample:hCoV-19/Brazil/RJ-FIOCRUZ-13895/2021 com inicio ou final divergente: inicio:ATGGG\tfinal:---\n",
            "Sample:hCoV-19/Brazil/RS-FIOCRUZ-7363/2021 com inicio ou final divergente: inicio:ATGGG\tfinal:---\n",
            "Sample:hCoV-19/Brazil/RS-FIOCRUZ-7398/2021 com inicio ou final divergente: inicio:ATGGG\tfinal:---\n",
            "Sample:hCoV-19/Brazil/RS-FIOCRUZ-14225/2021 com inicio ou final divergente: inicio:ATGGG\tfinal:---\n",
            "Sample:hCoV-19/Brazil/SE-FIOCRUZ-17990/2021 com inicio ou final divergente: inicio:ATGGG\tfinal:NNN\n",
            "Sample:hCoV-19/Brazil/AM-FIOCRUZ-20143138FN-R2/2020 com inicio ou final divergente: inicio:ATGGG\tfinal:---\n",
            "Sample:hCoV-19/Brazil/AM-FIOCRUZ-20843351MC/2020 com inicio ou final divergente: inicio:ATGGG\tfinal:---\n",
            "Sample:hCoV-19/Brazil/AM-FIOCRUZ-20843355YM/2020 com inicio ou final divergente: inicio:ATGGG\tfinal:---\n",
            "Sample:hCoV-19/Brazil/AM-00703/2021 com inicio ou final divergente: inicio:ATGGG\tfinal:NNN\n",
            "Sample:hCoV-19/Brazil/SP-AFIP_04_2021/2021 com inicio ou final divergente: inicio:ATGGG\tfinal:NNN\n",
            "Sample:hCoV-19/Brazil/GO-LABSAUDE-84/2021 com inicio ou final divergente: inicio:NNNNN\tfinal:TAG\n",
            "Sample:hCoV-19/Brazil/GO-LABSAUDE-85/2021 com inicio ou final divergente: inicio:NNNNN\tfinal:TAG\n",
            "Sample:hCoV-19/Brazil/SP-SJRP49663/2021 com inicio ou final divergente: inicio:ATGGG\tfinal:---\n",
            "Sample:hCoV-19/Brazil/SP-SJRP49664/2021 com inicio ou final divergente: inicio:ATGGG\tfinal:---\n",
            "Sample:hCoV-19/Brazil/SP-SJRP49671/2021 com inicio ou final divergente: inicio:ATGGG\tfinal:---\n",
            "Sample:hCoV-19/Brazil/SP-SJRP49673/2021 com inicio ou final divergente: inicio:ATGGG\tfinal:---\n",
            "Sample:hCoV-19/Brazil/AM-FIOCRUZ-21140415MR-R2/2021 com inicio ou final divergente: inicio:ATGGG\tfinal:---\n",
            "Sample:hCoV-19/Brazil/AM-FIOCRUZ-21140646MJ-R2/2021 com inicio ou final divergente: inicio:ATGGG\tfinal:---\n",
            "Sample:hCoV-19/Brazil/GO-LABSAUDE-110/2021 com inicio ou final divergente: inicio:NNNNN\tfinal:TAG\n",
            "Sample:hCoV-19/Brazil/GO-LABSAUDE-111/2021 com inicio ou final divergente: inicio:NNNNN\tfinal:TAG\n",
            "Sample:hCoV-19/Brazil/GO-HLAGYN-1508286/2021 com inicio ou final divergente: inicio:GTGGG\tfinal:TAG\n",
            "Sample:hCoV-19/Brazil/AM-FIOCRUZ-20892204FL/2020 com inicio ou final divergente: inicio:ATGGG\tfinal:---\n",
            "Sample:hCoV-19/Brazil/AM-FIOCRUZ-20892251AR/2020 com inicio ou final divergente: inicio:ATGGG\tfinal:---\n",
            "Sample:hCoV-19/Brazil/AM-FIOCRUZ-21142481RG/2021 com inicio ou final divergente: inicio:ATGGG\tfinal:---\n",
            "Sample:hCoV-19/Brazil/AM-FIOCRUZ-21843439LC/2021 com inicio ou final divergente: inicio:ATGGG\tfinal:---\n",
            "Sample:hCoV-19/Brazil/AM-FIOCRUZ-21843511WC/2021 com inicio ou final divergente: inicio:ATGGG\tfinal:---\n",
            "Sample:hCoV-19/Brazil/AM-FIOCRUZ-21843518RA/2021 com inicio ou final divergente: inicio:ATGGG\tfinal:---\n",
            "Sample:hCoV-19/Brazil/AM-FIOCRUZ-21890002SP/2021 com inicio ou final divergente: inicio:ATGGG\tfinal:---\n",
            "Sample:hCoV-19/Brazil/AM-FIOCRUZ-21890006JG/2021 com inicio ou final divergente: inicio:ATGGG\tfinal:---\n",
            "Sample:hCoV-19/Brazil/AM-FIOCRUZ-21890031RC/2021 com inicio ou final divergente: inicio:ATGGG\tfinal:---\n",
            "Sample:hCoV-19/Brazil/SP-BT19607/2021 com inicio ou final divergente: inicio:ATTGG\tfinal:TAG\n",
            "Sample:hCoV-19/Brazil/AM-FIOCRUZ-20842882CA/2020 com inicio ou final divergente: inicio:ATGGG\tfinal:---\n",
            "Sample:hCoV-19/Brazil/AM-FIOCRUZ-20843201ML/2020 com inicio ou final divergente: inicio:ATGGG\tfinal:---\n",
            "Sample:hCoV-19/Brazil/SP-AFIP/2021 com inicio ou final divergente: inicio:ATGGG\tfinal:NNN\n",
            "Sample:hCoV-19/Brazil/RS-FIOCRUZ-14248/2021 com inicio ou final divergente: inicio:ATGGG\tfinal:---\n",
            "Sample:hCoV-19/Brazil/RJ-FIOCRUZ-6759/2021 com inicio ou final divergente: inicio:ATGGG\tfinal:---\n",
            "Sample:hCoV-19/Brazil/RJ-FIOCRUZ-6760/2021 com inicio ou final divergente: inicio:ATGGG\tfinal:---\n",
            "Sample:hCoV-19/Brazil/RJ-FIOCRUZ-7745/2021 com inicio ou final divergente: inicio:ATGGG\tfinal:---\n",
            "Sample:hCoV-19/Brazil/AL-FIOCRUZ-8935/2021 com inicio ou final divergente: inicio:ATGGG\tfinal:---\n",
            "Sample:hCoV-19/Brazil/MG-FIOCRUZ-9385/2021 com inicio ou final divergente: inicio:ATGGG\tfinal:---\n",
            "Sample:hCoV-19/Brazil/SC-FIOCRUZ-7174/2021 com inicio ou final divergente: inicio:ATGGG\tfinal:---\n",
            "Sample:hCoV-19/Brazil/SC-FIOCRUZ-11054/2021 com inicio ou final divergente: inicio:ATGGG\tfinal:---\n",
            "Sample:hCoV-19/Brazil/ES-FIOCRUZ-16386/2021 com inicio ou final divergente: inicio:ATGGG\tfinal:---\n"
          ]
        }
      ],
      "source": [
        "#DECLARAÇÃO DE VARIAVEIS UNICAS PRA CADA ORF\n",
        "#Arquivos\n",
        "output_file_quality = './output/quality_ORF_10.csv'\n",
        "output_file_fasta = './output/ORF_10.fasta'\n",
        "output_file_final = './output/final_ORF_10.fasta'\n",
        "#posições genomicas\n",
        "start_codon = orfs['10']['START_CODON']\n",
        "start_posix = orfs['10']['START_NUMBER'] - 1\n",
        "end_codon = orfs['10']['END_CODON']\n",
        "end_posix = orfs['10']['END_NUMBER']\n",
        "\n",
        "if exists(output_file_quality):\n",
        "    empty_file(output_file_quality)\n",
        "if exists(output_file_fasta):\n",
        "    empty_file(output_file_fasta)\n",
        "if exists(output_file_final):\n",
        "    empty_file(output_file_final)\n",
        "\n",
        "#CRIANDO HEADER DO ARQUIVO CSV DE QUALIDADE\n",
        "write_header(output_file_quality)\n",
        "\n",
        "#LENDO O ARQUIVO DE ENTRADA FASTA, NECESSÁRIO CHAMAR CADA VEZ QUE FOR ITERAR SOBRE AS SEQUENCIAS \n",
        "fasta_sequences = SeqIO.parse(open(input_fasta),'fasta')\n",
        "\n",
        "#OLHANDO CADAS SEQUENCIA UNITARIAMENTE\n",
        "for fasta in fasta_sequences:\n",
        "    \n",
        "    #PEGANDO NOME E SEQUENCIA DAS AMOSTRAS \n",
        "    name, sequence = fasta.id, str(fasta.seq)\n",
        "    \n",
        "    #ORF\n",
        "    orf = sequence[start_posix : end_posix]\n",
        "    \n",
        "    #ANALISE DE PARAMETROS DE QUALIDADE\n",
        "    gaps = orf.count('-')\n",
        "    nbase = orf.count('N')\n",
        "    lenght = len(orf)\n",
        "    \n",
        "    #TESTA SE O START CODON E O END CODON SÃO OS ESPERADOS\n",
        "    if not (orf[:3] == start_codon and orf[-3:] == end_codon):\n",
        "        print(f'Sample:{name} com inicio ou final divergente: inicio:{orf[:5]}\\tfinal:{orf[-3:]}')\n",
        "        write_fasta('problems_10.fa',name,sequence)\n",
        "    if 'N' in orf:\n",
        "        orf_sem_n = orf.replace('N', '')\n",
        "\n",
        "          #SALVANDO AS SEQUENCIAS \n",
        "        write_fasta(output_file_final,name,orf_sem_n)\n",
        "        count_nseq += 1\n",
        "    else:\n",
        "         write_fasta(output_file_fasta,name,orf)\n",
        "         #print (f'SAMPLE:(name)\\tORF:6')\n",
        "         count_seq += 1\n",
        "         #ESCREVENDO PARAMETROS DE QUALIDADE\n",
        "         write_quality(output_file_quality,name,gaps,nbase,lenght,orf[:3],orf[-3:],start_posix,end_posix)\n",
        "print(count_seq)\n",
        "print(count_nseq)"
      ]
    }
  ],
  "metadata": {
    "kernelspec": {
      "display_name": "Python 3",
      "language": "python",
      "name": "python3"
    },
    "language_info": {
      "codemirror_mode": {
        "name": "ipython",
        "version": 3
      },
      "file_extension": ".py",
      "mimetype": "text/x-python",
      "name": "python",
      "nbconvert_exporter": "python",
      "pygments_lexer": "ipython3",
      "version": "3.8.8"
    },
    "colab": {
      "name": "orf_extractor.ipynb",
      "provenance": [],
      "include_colab_link": true
    }
  },
  "nbformat": 4,
  "nbformat_minor": 5
}